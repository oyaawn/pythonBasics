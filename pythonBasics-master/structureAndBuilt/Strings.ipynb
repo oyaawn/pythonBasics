{
 "cells": [
  {
   "cell_type": "code",
   "execution_count": 1,
   "id": "604a6fbc",
   "metadata": {},
   "outputs": [
    {
     "ename": "TypeError",
     "evalue": "'int' object is not iterable",
     "output_type": "error",
     "traceback": [
      "\u001b[0;31m---------------------------------------------------------------------------\u001b[0m",
      "\u001b[0;31mTypeError\u001b[0m                                 Traceback (most recent call last)",
      "\u001b[1;32m/Users/ayan/Desktop/Python Code/My code/pythonBasics-master/structureAndBuilt/Strings.ipynb Cell 1\u001b[0m line \u001b[0;36m2\n\u001b[1;32m      <a href='vscode-notebook-cell:/Users/ayan/Desktop/Python%20Code/My%20code/pythonBasics-master/structureAndBuilt/Strings.ipynb#W0sZmlsZQ%3D%3D?line=0'>1</a>\u001b[0m x\u001b[39m=\u001b[39m\u001b[39m5\u001b[39m\n\u001b[0;32m----> <a href='vscode-notebook-cell:/Users/ayan/Desktop/Python%20Code/My%20code/pythonBasics-master/structureAndBuilt/Strings.ipynb#W0sZmlsZQ%3D%3D?line=1'>2</a>\u001b[0m \u001b[39mfor\u001b[39;00m i \u001b[39min\u001b[39;00m x:\n\u001b[1;32m      <a href='vscode-notebook-cell:/Users/ayan/Desktop/Python%20Code/My%20code/pythonBasics-master/structureAndBuilt/Strings.ipynb#W0sZmlsZQ%3D%3D?line=2'>3</a>\u001b[0m     \u001b[39mprint\u001b[39m(i)\n",
      "\u001b[0;31mTypeError\u001b[0m: 'int' object is not iterable"
     ]
    }
   ],
   "source": [
    "x=5\n",
    "for i in range(x):\n",
    "    print(i)"
   ]
  },
  {
   "cell_type": "markdown",
   "id": "05e3f5fb",
   "metadata": {},
   "source": []
  },
  {
   "cell_type": "code",
   "execution_count": null,
   "id": "012e6b7d",
   "metadata": {},
   "outputs": [],
   "source": [
    "lastLetters = name[1:]"
   ]
  },
  {
   "cell_type": "code",
   "execution_count": null,
   "id": "43f534a2",
   "metadata": {},
   "outputs": [
    {
     "data": {
      "text/plain": [
       "'Pam'"
      ]
     },
     "execution_count": 4,
     "metadata": {},
     "output_type": "execute_result"
    }
   ],
   "source": [
    "'P' + lastLetters"
   ]
  },
  {
   "cell_type": "code",
   "execution_count": null,
   "id": "6832e4f5",
   "metadata": {},
   "outputs": [],
   "source": [
    "x = 'Hello World'"
   ]
  },
  {
   "cell_type": "code",
   "execution_count": null,
   "id": "dfd59531",
   "metadata": {},
   "outputs": [],
   "source": [
    "x += \" it is beautiful outside\""
   ]
  },
  {
   "cell_type": "code",
   "execution_count": null,
   "id": "31477aba",
   "metadata": {},
   "outputs": [
    {
     "data": {
      "text/plain": [
       "'Hello Worldit is beautiful outside'"
      ]
     },
     "execution_count": 7,
     "metadata": {},
     "output_type": "execute_result"
    }
   ],
   "source": [
    "x"
   ]
  },
  {
   "cell_type": "code",
   "execution_count": null,
   "id": "dcf69beb",
   "metadata": {},
   "outputs": [],
   "source": [
    "x = \"Hello World\""
   ]
  },
  {
   "cell_type": "code",
   "execution_count": null,
   "id": "9420fe7a",
   "metadata": {},
   "outputs": [
    {
     "data": {
      "text/plain": [
       "'HELLO WORLD'"
      ]
     },
     "execution_count": 12,
     "metadata": {},
     "output_type": "execute_result"
    }
   ],
   "source": [
    "x.upper()"
   ]
  },
  {
   "cell_type": "code",
   "execution_count": 1,
   "id": "e987a4b7",
   "metadata": {},
   "outputs": [],
   "source": [
    "x= \"hello i am sitting in a magnificient library, my jaws have dropped. I used to pray for times likes this.\""
   ]
  },
  {
   "cell_type": "code",
   "execution_count": 14,
   "id": "ca45e18a",
   "metadata": {},
   "outputs": [
    {
     "data": {
      "text/plain": [
       "['hello',\n",
       " 'i',\n",
       " 'am',\n",
       " 'sitting',\n",
       " 'in',\n",
       " 'a',\n",
       " 'magnificient',\n",
       " 'library,',\n",
       " 'my',\n",
       " 'jaws',\n",
       " 'have',\n",
       " 'dropped.',\n",
       " 'I',\n",
       " 'used',\n",
       " 'to',\n",
       " 'pray',\n",
       " 'for',\n",
       " 'times',\n",
       " 'likes',\n",
       " 'this.']"
      ]
     },
     "execution_count": 14,
     "metadata": {},
     "output_type": "execute_result"
    }
   ],
   "source": [
    "x.split()"
   ]
  },
  {
   "cell_type": "code",
   "execution_count": 17,
   "id": "1eb1a17c",
   "metadata": {},
   "outputs": [
    {
     "name": "stdout",
     "output_type": "stream",
     "text": [
      " Hello waddup my g\n"
     ]
    }
   ],
   "source": [
    "print(' Hello {2} {0} {1}' .format('my','g','waddup'))"
   ]
  },
  {
   "cell_type": "code",
   "execution_count": 18,
   "id": "0a4be8da",
   "metadata": {},
   "outputs": [
    {
     "name": "stdout",
     "output_type": "stream",
     "text": [
      "Here we go !\n"
     ]
    }
   ],
   "source": [
    "print( 'Here {a} {b} {c}' .format (a='we',b='go', c='!'))"
   ]
  },
  {
   "cell_type": "code",
   "execution_count": null,
   "id": "5e4687f6",
   "metadata": {},
   "outputs": [],
   "source": []
  }
 ],
 "metadata": {
  "kernelspec": {
   "display_name": "Python 3 (ipykernel)",
   "language": "python",
   "name": "python3"
  },
  "language_info": {
   "codemirror_mode": {
    "name": "ipython",
    "version": 3
   },
   "file_extension": ".py",
   "mimetype": "text/x-python",
   "name": "python",
   "nbconvert_exporter": "python",
   "pygments_lexer": "ipython3",
   "version": "3.9.6"
  }
 },
 "nbformat": 4,
 "nbformat_minor": 5
}
